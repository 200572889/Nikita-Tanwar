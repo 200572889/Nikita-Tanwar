{
 "cells": [
  {
   "cell_type": "code",
   "execution_count": 2,
   "id": "baadd908",
   "metadata": {},
   "outputs": [],
   "source": [
    "#QUESTION 1\n",
    "a = 0\n",
    "def b():\n",
    "    global a\n",
    "    a = c(a)\n",
    "\n",
    "def c(a):\n",
    "    return a + 2\n"
   ]
  },
  {
   "cell_type": "code",
   "execution_count": 3,
   "id": "b570fc15",
   "metadata": {},
   "outputs": [
    {
     "data": {
      "text/plain": [
       "6"
      ]
     },
     "execution_count": 3,
     "metadata": {},
     "output_type": "execute_result"
    }
   ],
   "source": [
    "b()\n",
    "b()\n",
    "b()\n",
    "a\n"
   ]
  },
  {
   "cell_type": "code",
   "execution_count": 4,
   "id": "b1d36f0c",
   "metadata": {},
   "outputs": [],
   "source": [
    "#QUESTION 2\n",
    "def fileLength(file):\n",
    "    try:\n",
    "        with open(file) as f:\n",
    "            contents = f.read()\n",
    "            return len(contents)\n",
    "    except FileNotFoundError:\n",
    "        print(f\"File {file} not found.\")\n"
   ]
  },
  {
   "cell_type": "code",
   "execution_count": 5,
   "id": "fa2e1c50",
   "metadata": {},
   "outputs": [
    {
     "name": "stdout",
     "output_type": "stream",
     "text": [
      "File midterm.py not found.\n",
      "File idterm.py not found.\n"
     ]
    }
   ],
   "source": [
    "fileLength('midterm.py')\n",
    "fileLength('idterm.py')\n"
   ]
  },
  {
   "cell_type": "code",
   "execution_count": 7,
   "id": "aa674430",
   "metadata": {},
   "outputs": [],
   "source": [
    "#QUESTION 3\n",
    "class Marsupial:\n",
    "    def __init__(self):\n",
    "        self.pouch = []\n",
    "\n",
    "    def put_in_pouch(self, item):\n",
    "        self.pouch.append(item)\n",
    "\n",
    "    def pouch_contents(self):\n",
    "        return self.pouch\n",
    "\n",
    "\n",
    "class Kangaroo(Marsupial):\n",
    "    def __init__(self, x, y):\n",
    "        super().__init__()\n",
    "        self.x = x\n",
    "        self.y = y\n",
    "\n",
    "    def jump(self, dx, dy):\n",
    "        self.x += dx\n",
    "        self.y += dy\n",
    "\n",
    "    def __str__(self):\n",
    "        return f\"I am a Kangaroo located at coordinates ({self.x},{self.y})\"\n",
    "\n"
   ]
  },
  {
   "cell_type": "code",
   "execution_count": 8,
   "id": "ec92baf4",
   "metadata": {},
   "outputs": [
    {
     "name": "stdout",
     "output_type": "stream",
     "text": [
      "['doll', 'firetruck', 'kitten']\n"
     ]
    }
   ],
   "source": [
    "# Test the classes\n",
    "m = Marsupial()\n",
    "m.put_in_pouch('doll')\n",
    "m.put_in_pouch('firetruck')\n",
    "m.put_in_pouch('kitten')\n",
    "print(m.pouch_contents())"
   ]
  },
  {
   "cell_type": "code",
   "execution_count": 9,
   "id": "5da785fd",
   "metadata": {},
   "outputs": [
    {
     "name": "stdout",
     "output_type": "stream",
     "text": [
      "I am a Kangaroo located at coordinates (0,0)\n"
     ]
    }
   ],
   "source": [
    "k = Kangaroo(0, 0)\n",
    "print(k)"
   ]
  },
  {
   "cell_type": "code",
   "execution_count": 10,
   "id": "3aab90e0",
   "metadata": {},
   "outputs": [
    {
     "name": "stdout",
     "output_type": "stream",
     "text": [
      "['doll', 'firetruck', 'kitten']\n"
     ]
    }
   ],
   "source": [
    "k.put_in_pouch('doll')\n",
    "k.put_in_pouch('firetruck')\n",
    "k.put_in_pouch('kitten')\n",
    "print(k.pouch_contents())"
   ]
  },
  {
   "cell_type": "code",
   "execution_count": 11,
   "id": "7483560a",
   "metadata": {},
   "outputs": [
    {
     "name": "stdout",
     "output_type": "stream",
     "text": [
      "I am a Kangaroo located at coordinates (3,0)\n"
     ]
    }
   ],
   "source": [
    "k.jump(1, 0)\n",
    "k.jump(1, 0)\n",
    "k.jump(1, 0)\n",
    "print(k)"
   ]
  },
  {
   "cell_type": "code",
   "execution_count": 12,
   "id": "32100302",
   "metadata": {},
   "outputs": [],
   "source": [
    "#QUESTION 4\n",
    "def collatz(x):\n",
    "    print(x)\n",
    "    if x == 1:\n",
    "        return\n",
    "    elif x % 2 == 0:\n",
    "        collatz(x // 2)\n",
    "    else:\n",
    "        collatz(3 * x + 1)"
   ]
  },
  {
   "cell_type": "code",
   "execution_count": 13,
   "id": "c20c3929",
   "metadata": {},
   "outputs": [
    {
     "name": "stdout",
     "output_type": "stream",
     "text": [
      "1\n",
      "10\n",
      "5\n",
      "16\n",
      "8\n",
      "4\n",
      "2\n",
      "1\n"
     ]
    }
   ],
   "source": [
    "# Test the function\n",
    "collatz(1)\n",
    "collatz(10)"
   ]
  },
  {
   "cell_type": "code",
   "execution_count": 14,
   "id": "8975f4bd",
   "metadata": {},
   "outputs": [],
   "source": [
    "#QUESTION 5\n",
    "def binary(n):\n",
    "    if n > 1:\n",
    "        binary(n // 2)\n",
    "    print(n % 2, end='')"
   ]
  },
  {
   "cell_type": "code",
   "execution_count": 15,
   "id": "755daee8",
   "metadata": {},
   "outputs": [
    {
     "name": "stdout",
     "output_type": "stream",
     "text": [
      "0\n",
      "1\n",
      "11\n",
      "1001"
     ]
    }
   ],
   "source": [
    "# Test the function\n",
    "binary(0)\n",
    "print()\n",
    "binary(1)\n",
    "print()\n",
    "binary(3)\n",
    "print()\n",
    "binary(9)"
   ]
  },
  {
   "cell_type": "code",
   "execution_count": 16,
   "id": "afe5b3e9",
   "metadata": {},
   "outputs": [
    {
     "name": "stdout",
     "output_type": "stream",
     "text": [
      "W3C Mission\n",
      "  Principles\n"
     ]
    }
   ],
   "source": [
    "#QUESTION 6\n",
    "from html.parser import HTMLParser\n",
    "\n",
    "\n",
    "class HeadingParser(HTMLParser):\n",
    "    def __init__(self):\n",
    "        super().__init__()\n",
    "        self.indent = 0\n",
    "        self.in_heading = False\n",
    "\n",
    "    def handle_starttag(self, tag, attrs):\n",
    "        if tag.startswith('h') and len(tag) == 2:\n",
    "            self.in_heading = True\n",
    "            self.indent = int(tag[1]) - 1\n",
    "\n",
    "    def handle_data(self, data):\n",
    "        if self.in_heading:\n",
    "            print(\"  \" * self.indent + data)\n",
    "\n",
    "    def handle_endtag(self, tag):\n",
    "        if tag.startswith('h') and len(tag) == 2:\n",
    "            self.in_heading = False\n",
    "\n",
    "\n",
    "# Test the implementation using w3c.html\n",
    "infile = open('w3c.html')\n",
    "content = infile.read()\n",
    "infile.close()\n",
    "\n",
    "hp = HeadingParser()\n",
    "hp.feed(content)\n"
   ]
  },
  {
   "cell_type": "code",
   "execution_count": 19,
   "id": "a5b0818c",
   "metadata": {},
   "outputs": [
    {
     "name": "stdout",
     "output_type": "stream",
     "text": [
      "http://web.simmons.edu/~grovesd/comm244/notes/week3/html-test-page.html\n",
      "    http://web.simmons.edu/~grovesd/comm244\n",
      "    http://web.simmons.edu/~grovesd/comm244/week3\n"
     ]
    }
   ],
   "source": [
    "#QUESTION 7\n",
    "import requests\n",
    "from bs4 import BeautifulSoup\n",
    "\n",
    "\n",
    "def webdir(url, depth, indent):\n",
    "    if depth == 0:\n",
    "        return\n",
    "\n",
    "    try:\n",
    "        response = requests.get(url)\n",
    "        soup = BeautifulSoup(response.text, 'html.parser')\n",
    "        print(\" \" * indent + url)\n",
    "\n",
    "        for link in soup.find_all('a'):\n",
    "            new_url = link.get('href')\n",
    "            if new_url.startswith('http'):\n",
    "                webdir(new_url, depth - 1, indent + 4)\n",
    "\n",
    "    except requests.exceptions.RequestException as e:\n",
    "        print(f\"Error: {e}\")\n",
    "\n",
    "\n",
    "# Test the function\n",
    "webdir('http://web.simmons.edu/~grovesd/comm244/notes/week3/html-test-page.html', 2, 0)\n"
   ]
  },
  {
   "cell_type": "code",
   "execution_count": 20,
   "id": "f7bca700",
   "metadata": {},
   "outputs": [
    {
     "name": "stdout",
     "output_type": "stream",
     "text": [
      "Query a:\n",
      "('Mumbai', 'India', 'Winter', 24.8, 5.9)\n",
      "('Mumbai', 'India', 'Spring', 28.4, 16.2)\n",
      "('Mumbai', 'India', 'Summer', 27.9, 1549.4)\n",
      "('Mumbai', 'India', 'Fall', 27.6, 346.0)\n",
      "('London', 'United Kingdom', 'Winter', 4.2, 207.7)\n",
      "('London', 'United Kingdom', 'Spring', 8.3, 169.6)\n",
      "('London', 'United Kingdom', 'Summer', 15.7, 157.0)\n",
      "('London', 'United Kingdom', 'Fall', 10.4, 218.5)\n",
      "('Cairo', 'Egypt', 'Winter', 13.6, 16.5)\n",
      "('Cairo', 'Egypt', 'Spring', 20.7, 6.5)\n",
      "('Cairo', 'Egypt', 'Summer', 27.7, 0.1)\n",
      "('Cairo', 'Egypt', 'Fall', 22.2, 4.5)\n",
      "\n",
      "\n",
      "Query b:\n",
      "('Mumbai',)\n",
      "('London',)\n",
      "('Cairo',)\n",
      "\n",
      "\n",
      "Query c:\n",
      "('Mumbai', 'India', 'Winter', 24.8, 5.9)\n",
      "('Mumbai', 'India', 'Spring', 28.4, 16.2)\n",
      "('Mumbai', 'India', 'Summer', 27.9, 1549.4)\n",
      "('Mumbai', 'India', 'Fall', 27.6, 346.0)\n",
      "\n",
      "\n",
      "Query d:\n",
      "('Mumbai', 'India', 'Fall', 27.6, 346.0)\n",
      "('London', 'United Kingdom', 'Fall', 10.4, 218.5)\n",
      "('Cairo', 'Egypt', 'Fall', 22.2, 4.5)\n",
      "\n",
      "\n",
      "Query e:\n",
      "('Mumbai', 'India', 'Fall')\n",
      "('London', 'United Kingdom', 'Winter')\n",
      "('London', 'United Kingdom', 'Fall')\n",
      "\n",
      "\n",
      "Query f:\n",
      "('Cairo', 'Egypt')\n",
      "('Mumbai', 'India')\n",
      "\n",
      "\n",
      "Query g:\n",
      "(27.6,)\n",
      "\n",
      "\n",
      "Query h:\n",
      "('Fall', 569.0)\n",
      "('Spring', 192.29999999999998)\n",
      "('Summer', 1706.5)\n",
      "('Winter', 230.1)\n",
      "\n",
      "\n"
     ]
    }
   ],
   "source": [
    "#QUESTION 8\n",
    "import sqlite3\n",
    "\n",
    "# Connect to an in-memory database\n",
    "conn = sqlite3.connect(':memory:')\n",
    "cur = conn.cursor()\n",
    "\n",
    "# Create the table\n",
    "cur.execute('''CREATE TABLE weather\n",
    "               (City text, Country text, Season text, Temperature real, Rainfall real)''')\n",
    "\n",
    "# Insert data into the table\n",
    "data = [\n",
    "    ('Mumbai', 'India', 'Winter', 24.8, 5.9),\n",
    "    ('Mumbai', 'India', 'Spring', 28.4, 16.2),\n",
    "    ('Mumbai', 'India', 'Summer', 27.9, 1549.4),\n",
    "    ('Mumbai', 'India', 'Fall', 27.6, 346.0),\n",
    "    ('London', 'United Kingdom', 'Winter', 4.2, 207.7),\n",
    "    ('London', 'United Kingdom', 'Spring', 8.3, 169.6),\n",
    "    ('London', 'United Kingdom', 'Summer', 15.7, 157.0),\n",
    "    ('London', 'United Kingdom', 'Fall', 10.4, 218.5),\n",
    "    ('Cairo', 'Egypt', 'Winter', 13.6, 16.5),\n",
    "    ('Cairo', 'Egypt', 'Spring', 20.7, 6.5),\n",
    "    ('Cairo', 'Egypt', 'Summer', 27.7, 0.1),\n",
    "    ('Cairo', 'Egypt', 'Fall', 22.2, 4.5)\n",
    "]\n",
    "cur.executemany('INSERT INTO weather VALUES (?, ?, ?, ?, ?)', data)\n",
    "\n",
    "# SQL queries\n",
    "queries = {\n",
    "    'a': 'SELECT * FROM weather;',\n",
    "    'b': 'SELECT DISTINCT City FROM weather;',\n",
    "    'c': \"SELECT * FROM weather WHERE Country='India';\",\n",
    "    'd': \"SELECT * FROM weather WHERE Season='Fall';\",\n",
    "    'e': \"SELECT City, Country, Season FROM weather WHERE Rainfall BETWEEN 200 AND 400;\",\n",
    "    'f': \"SELECT City, Country FROM weather WHERE Season='Fall' AND Temperature > 20 ORDER BY Temperature;\",\n",
    "    'g': \"SELECT SUM(Rainfall) FROM weather WHERE City='Cairo';\",\n",
    "    'h': \"SELECT Season, SUM(Rainfall) FROM weather GROUP BY Season;\"\n",
    "}\n",
    "\n",
    "# Execute queries and display results\n",
    "for key, query in queries.items():\n",
    "    print(f\"Query {key}:\")\n",
    "    cur.execute(query)\n",
    "    rows = cur.fetchall()\n",
    "    for row in rows:\n",
    "        print(row)\n",
    "    print('\\n')\n",
    "\n",
    "# Close the connection\n",
    "conn.close()\n"
   ]
  },
  {
   "cell_type": "code",
   "execution_count": 21,
   "id": "f06ecfde",
   "metadata": {},
   "outputs": [
    {
     "name": "stdout",
     "output_type": "stream",
     "text": [
      "['THE', 'QUICK', 'BROWN', 'FOX', 'JUMPS', 'OVER', 'THE', 'LAZY', 'DOG']\n",
      "['the', 'quick', 'brown', 'fox', 'jumps', 'over', 'the', 'lazy', 'dog']\n",
      "[3, 5, 5, 3, 5, 4, 3, 4, 3]\n",
      "[['THE', 'the', 3], ['QUICK', 'quick', 5], ['BROWN', 'brown', 5], ['FOX', 'fox', 3], ['JUMPS', 'jumps', 5], ['OVER', 'over', 4], ['THE', 'the', 3], ['LAZY', 'lazy', 4], ['DOG', 'dog', 3]]\n",
      "['quick', 'brown', 'jumps', 'over', 'lazy']\n"
     ]
    }
   ],
   "source": [
    "#QUESTION 9\n",
    "words = ['The', 'quick', 'brown', 'fox', 'jumps', 'over', 'the', 'lazy', 'dog']\n",
    "\n",
    "# a)\n",
    "uppercase_words = [word.upper() for word in words]\n",
    "print(uppercase_words)\n",
    "\n",
    "# b)\n",
    "lowercase_words = [word.lower() for word in words]\n",
    "print(lowercase_words)\n",
    "\n",
    "# c)\n",
    "word_lengths = [len(word) for word in words]\n",
    "print(word_lengths)\n",
    "\n",
    "# d)\n",
    "word_info = [[word.upper(), word.lower(), len(word)] for word in words]\n",
    "print(word_info)\n",
    "\n",
    "# e)\n",
    "long_words = [word for word in words if len(word) >= 4]\n",
    "print(long_words)\n"
   ]
  },
  {
   "cell_type": "code",
   "execution_count": null,
   "id": "e82374e5",
   "metadata": {},
   "outputs": [],
   "source": []
  }
 ],
 "metadata": {
  "kernelspec": {
   "display_name": "Python 3 (ipykernel)",
   "language": "python",
   "name": "python3"
  },
  "language_info": {
   "codemirror_mode": {
    "name": "ipython",
    "version": 3
   },
   "file_extension": ".py",
   "mimetype": "text/x-python",
   "name": "python",
   "nbconvert_exporter": "python",
   "pygments_lexer": "ipython3",
   "version": "3.11.4"
  }
 },
 "nbformat": 4,
 "nbformat_minor": 5
}
